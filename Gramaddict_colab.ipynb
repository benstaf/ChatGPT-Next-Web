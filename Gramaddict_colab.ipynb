{
  "nbformat": 4,
  "nbformat_minor": 0,
  "metadata": {
    "colab": {
      "provenance": [],
      "authorship_tag": "ABX9TyPYHQyw7HYWbGXw3GcEYNrB",
      "include_colab_link": true
    },
    "kernelspec": {
      "name": "python3",
      "display_name": "Python 3"
    },
    "language_info": {
      "name": "python"
    }
  },
  "cells": [
    {
      "cell_type": "markdown",
      "metadata": {
        "id": "view-in-github",
        "colab_type": "text"
      },
      "source": [
        "<a href=\"https://colab.research.google.com/github/benstaf/ChatGPT-Next-Web/blob/main/Gramaddict_colab.ipynb\" target=\"_parent\"><img src=\"https://colab.research.google.com/assets/colab-badge.svg\" alt=\"Open In Colab\"/></a>"
      ]
    },
    {
      "cell_type": "code",
      "source": [
        "\n",
        "  GNU nano 8.3                                                        configithub.yml\n",
        "##############################################################################\n",
        "# For more information on parameters, refer to:\n",
        "# https://docs.gramaddict.org/#/configuration?id=configuration-file\n",
        "#\n",
        "# Note: be sure to comment out any parameters not used by adding a # in front\n",
        "# AGAIN: YOU DON'T HAVE TO DELETE THE LINE, BUT ONLY COMMENT IT WITH A #!\n",
        "##############################################################################\n",
        "# General Configuration\n",
        "##############################################################################\n",
        "\n",
        "username: swaychuk #vladimgram  # you have to put your IG name here!\n",
        "device: localhost:5555 #put_your_device_id_there # 'adb devices' in the console to know it.  It's needed only if you have more than 1 device connected  app-id: com.instagram.android\n",
        "use-cloned-app: false\n",
        "allow-untested-ig-version: true # Using an untested version of IG would cause unexpected behavior because some elements in the user interface may have >\n",
        "screen-sleep: true                                                                                                                                      screen-record: false\n",
        "speed-multiplier: 1\n",
        "debug: false\n",
        "close-apps: false\n",
        "kill-atx-agent: false\n",
        "restart-atx-agent: false\n",
        "disable-block-detection: false\n",
        "disable-filters: false\n",
        "dont-type: false\n",
        "# scrape-to-file: scraped.txt\n",
        "total-crashes-limit: 5\n",
        "count-app-crashes: false\n",
        "shuffle-jobs: true\n",
        "truncate-sources: 2-5\n",
        "\n",
        "##############################################################################\n",
        "# Actions\n",
        "##############################################################################\n",
        "\n",
        "## Interaction (active jobs)\n",
        "#blogger-followers: [ username1, username2 ]\n",
        "#blogger-following: [ username1, username2 ]\n",
        "#blogger-post-likers: [ username1, username2 ]\n",
        "#blogger: [ username1, username2 ]\n",
        "#hashtag-likers-top: [ hashtag1, hashtag2 ]\n",
        "#hashtag-likers-recent: [ hashtag1, hashtag2 ]\n",
        "#hashtag-posts-top: [ hashtag1, hashtag2 ]\n",
        "#hashtag-posts-recent: [ hashtag1, hashtag2 ]\n",
        "#place-posts-top: [ place1, place2 ]\n",
        "#place-posts-recent: [ place1, place2 ]\n",
        "#place-likers-top: [ place1, place2 ]\n",
        "#place-likers-recent: [ place1, place2 ]\n",
        "interact-from-file: instalist_test.txt # [usernames1.txt 10-15, usernames2.txt 3]\n",
        "#posts-from-file: posts.txt\n",
        "feed: 2-5 # is the number of likes you will give in feed\n",
        "\n",
        "## Special modifier for jobs and sources\n",
        "watch-video-time: 15-35\n",
        "watch-photo-time: 3-4\n",
        "# can-reinteract-after: 48 # the amount of hours that have to pass from the last interaction\n",
        "delete-interacted-users: true\n",
        "\n",
        "## Unfollow (unfollow jobs)\n",
        "unfollow: 10-20\n",
        "unfollow-any: 10-20\n",
        "unfollow-non-followers: 10-20\n",
        "unfollow-any-non-followers: 10-20\n",
        "unfollow-any-followers: 10-20\n",
        "#unfollow-from-file: [usernames1.txt 7-15, usernames2.txt 6]\n",
        "\n",
        "## Special modifier for unfollow jobs\n",
        "sort-followers-newest-to-oldest: false\n",
        "unfollow-delay: 15\n",
        "\n",
        "## Remove followers (active jobs)\n",
        "#remove-followers-from-file: [remove1.txt 5-10, remove2.txt 6]\n",
        "\n",
        "## Special modifier for remove followers\n",
        "delete-removed-followers: true\n",
        "\n",
        "## Post Processing\n",
        "# analytics: false # no more supported\n",
        "telegram-reports: false # for using telegram-reports you have also to configure telegram.yml in your account folder\n",
        "\n",
        "## Special actions\n",
        "# pre-script: pre_script_path_here\n",
        "# post-script: post_script_path_here\n",
        "\n",
        "##############################################################################\n",
        "# Source Limits\n",
        "##############################################################################\n",
        "\n",
        "interactions-count: 30-40\n",
        "likes-count: 1-2\n",
        "likes-percentage: 100\n",
        "stories-count: 1-2\n",
        "stories-percentage: 30-40\n",
        "carousel-count: 2-3\n",
        "carousel-percentage: 60-70\n",
        "max-comments-pro-user: 1-2\n",
        "# comment-percentage: 30-40\n",
        "# pm-percentage: 30-40\n",
        "interact-percentage: 30-40\n",
        "follow-percentage: 30-40\n",
        "follow-limit: 50\n",
        "skipped-list-limit: 10-15\n",
        "skipped-posts-limit: 5\n",
        "fling-when-skipped: 0\n",
        "min-following: 10\n",
        "\n",
        "##############################################################################\n",
        "# Total Limits Per Session\n",
        "##############################################################################\n",
        "\n",
        "total-likes-limit: 120-150\n",
        "total-follows-limit: 40-50\n",
        "total-unfollows-limit: 40-50\n",
        "total-watches-limit: 120-150\n",
        "total-successful-interactions-limit: 120-150\n",
        "total-interactions-limit: 280-300\n",
        "total-comments-limit: 3-5\n",
        "total-pm-limit: 3-5\n",
        "total-scraped-limit: 100-150\n",
        "\n",
        "\n",
        "#################################################################\n",
        "# Ending Session Conditions\n",
        "#################################################################>\n",
        "\n",
        "end-if-likes-limit-reached: true\n",
        "end-if-follows-limit-reached: false\n",
        "end-if-watches-limit-reached: false\n",
        "end-if-comments-limit-reached: false\n",
        "end-if-pm-limit-reached: false\n",
        "\n",
        "#################################################################\n",
        "# Scheduling\n",
        "#################################################################\n",
        "\n",
        "#working-hours: [10.15-16.40, 18.15-22.46]\n",
        "time-delta: 10-15\n",
        "repeat: 280-320\n",
        "total-sessions: 1 # -1 or commented for infinite sessions"
      ],
      "metadata": {
        "id": "vHCW732CnV08"
      },
      "execution_count": null,
      "outputs": []
    },
    {
      "cell_type": "markdown",
      "source": [
        "Config test.yml"
      ],
      "metadata": {
        "id": "N1l1di_bFrzt"
      }
    },
    {
      "cell_type": "code",
      "execution_count": null,
      "metadata": {
        "id": "LiylC_OFFk3O"
      },
      "outputs": [],
      "source": [
        "\n",
        "interact:\n",
        "  - source: \"list\"\n",
        "    users_file: \"instalist_test.txt\"\n",
        "    follow: true  # Follows the user before interacting\n",
        "    send_messages:\n",
        "      enabled: true\n",
        "      messages:\n",
        "        - \" Hey how are you? \"\n",
        "      send_message_after_follow: true  # Sends DM only after following\n",
        "      delay: 5-10  # Random delay to avoid spam detection"
      ]
    },
    {
      "cell_type": "markdown",
      "source": [
        "Instalist_test.txt"
      ],
      "metadata": {
        "id": "-u6kW3NNLNTA"
      }
    },
    {
      "cell_type": "code",
      "source": [
        "poderzhky\n",
        "kyivenko\n",
        "hroshey\n",
        "ks.vd\n",
        "leria_gn"
      ],
      "metadata": {
        "id": "ZkcFYMlYFqiy"
      },
      "execution_count": null,
      "outputs": []
    }
  ]
}
