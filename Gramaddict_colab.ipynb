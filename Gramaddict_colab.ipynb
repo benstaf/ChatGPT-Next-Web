{
  "nbformat": 4,
  "nbformat_minor": 0,
  "metadata": {
    "colab": {
      "provenance": [],
      "authorship_tag": "ABX9TyN2k4iEoexHNaL+uhHb5mNP",
      "include_colab_link": true
    },
    "kernelspec": {
      "name": "python3",
      "display_name": "Python 3"
    },
    "language_info": {
      "name": "python"
    }
  },
  "cells": [
    {
      "cell_type": "markdown",
      "metadata": {
        "id": "view-in-github",
        "colab_type": "text"
      },
      "source": [
        "<a href=\"https://colab.research.google.com/github/benstaf/ChatGPT-Next-Web/blob/main/Gramaddict_colab.ipynb\" target=\"_parent\"><img src=\"https://colab.research.google.com/assets/colab-badge.svg\" alt=\"Open In Colab\"/></a>"
      ]
    },
    {
      "cell_type": "markdown",
      "source": [
        "Config test.yml"
      ],
      "metadata": {
        "id": "N1l1di_bFrzt"
      }
    },
    {
      "cell_type": "code",
      "execution_count": null,
      "metadata": {
        "id": "LiylC_OFFk3O"
      },
      "outputs": [],
      "source": [
        "\n",
        "interact:\n",
        "  - source: \"list\"\n",
        "    users_file: \"instalist_test.txt\"\n",
        "    follow: true  # Follows the user before interacting\n",
        "    send_messages:\n",
        "      enabled: true\n",
        "      messages:\n",
        "        - \" hi, how are you today?\"\n",
        "      send_message_after_follow: true  # Sends DM only after following\n",
        "      delay: 5-10  # Random delay to avoid spam detection"
      ]
    },
    {
      "cell_type": "markdown",
      "source": [
        "Instalist_test.txt"
      ],
      "metadata": {
        "id": "-u6kW3NNLNTA"
      }
    },
    {
      "cell_type": "code",
      "source": [
        "poderzhky\n",
        "kyivenko\n",
        "hroshey\n",
        "ks.vd\n",
        "leria_gn"
      ],
      "metadata": {
        "id": "ZkcFYMlYFqiy"
      },
      "execution_count": null,
      "outputs": []
    }
  ]
}
